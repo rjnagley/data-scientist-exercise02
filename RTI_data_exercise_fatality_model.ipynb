{
 "cells": [
  {
   "cell_type": "markdown",
   "metadata": {},
   "source": [
    "# Building a Model to Predict Fatality"
   ]
  },
  {
   "cell_type": "markdown",
   "metadata": {},
   "source": [
    "# Load all Necesssary Packages"
   ]
  },
  {
   "cell_type": "code",
   "execution_count": 87,
   "metadata": {},
   "outputs": [],
   "source": [
    "import pandas as pd\n",
    "import numpy as np\n",
    "import matplotlib.pyplot as plt\n",
    "import matplotlib.colors as colors\n",
    "from sklearn.model_selection import train_test_split\n",
    "from sklearn.metrics import classification_report\n",
    "from sklearn.linear_model import LogisticRegression\n",
    "from sklearn.preprocessing import LabelEncoder\n",
    "from sklearn.metrics import accuracy_score\n",
    "from sklearn.metrics import recall_score\n",
    "from sklearn.metrics import roc_auc_score\n",
    "from sklearn.metrics import f1_score\n",
    "from sklearn.feature_selection import SelectKBest, f_classif\n",
    "import lightgbm as lgb\n",
    "import statsmodels.api as sm\n",
    "import shap"
   ]
  },
  {
   "cell_type": "markdown",
   "metadata": {},
   "source": [
    "# Load data generated from RTI_data_exercise_text_analytics code"
   ]
  },
  {
   "cell_type": "code",
   "execution_count": 2,
   "metadata": {},
   "outputs": [],
   "source": [
    "combined_data = pd.read_csv('Downloads/combined_aviation_data_topic_nums.csv')"
   ]
  },
  {
   "cell_type": "markdown",
   "metadata": {},
   "source": [
    "## Only Keep Variables with <50% Missing and that are descriptive of flight"
   ]
  },
  {
   "cell_type": "code",
   "execution_count": 4,
   "metadata": {},
   "outputs": [],
   "source": [
    "combined_data= combined_data[['AccidentNumber', 'FatalIndicator', 'Country', 'AirportCode', 'AirportName',\n",
    "                              'Make','Model','AmateurBuilt','NumberOfEngines','EngineType',\n",
    "                              'PurposeOfFlight','WeatherCondition','BroadPhaseOfFlight','Year','Month','Day','WeekDay',\n",
    "                              'topic_num_narrative','topic_num_cause']]"
   ]
  },
  {
   "cell_type": "code",
   "execution_count": 5,
   "metadata": {},
   "outputs": [],
   "source": [
    "#fillna with missing to perform encoding\n",
    "combined_data= combined_data.fillna('missing')"
   ]
  },
  {
   "cell_type": "code",
   "execution_count": 98,
   "metadata": {},
   "outputs": [
    {
     "data": {
      "text/plain": [
       "VMC        68764\n",
       "IMC         5580\n",
       "missing     1985\n",
       "UNK          924\n",
       "Name: WeatherCondition, dtype: int64"
      ]
     },
     "execution_count": 98,
     "metadata": {},
     "output_type": "execute_result"
    }
   ],
   "source": [
    "combined_data.head()\n",
    "combined_data['WeatherCondition'].value_counts()"
   ]
  },
  {
   "cell_type": "markdown",
   "metadata": {},
   "source": [
    "## Label Encode Categorical Variables"
   ]
  },
  {
   "cell_type": "code",
   "execution_count": 6,
   "metadata": {},
   "outputs": [],
   "source": [
    "cat_features = ['Country', 'AirportCode', 'AirportName',\n",
    "                'Make','Model','AmateurBuilt','EngineType',\n",
    "                'PurposeOfFlight','WeatherCondition','BroadPhaseOfFlight']\n",
    "encoder = LabelEncoder()\n",
    "encoded = combined_data[cat_features].apply(encoder.fit_transform)"
   ]
  },
  {
   "cell_type": "code",
   "execution_count": 7,
   "metadata": {},
   "outputs": [],
   "source": [
    "encoded_data = pd.concat([encoded, combined_data[combined_data.columns.difference(encoded.columns)]], axis=1)"
   ]
  },
  {
   "cell_type": "code",
   "execution_count": 97,
   "metadata": {},
   "outputs": [
    {
     "data": {
      "text/plain": [
       "2    68764\n",
       "0     5580\n",
       "3     1985\n",
       "1      924\n",
       "Name: WeatherCondition, dtype: int64"
      ]
     },
     "execution_count": 97,
     "metadata": {},
     "output_type": "execute_result"
    }
   ],
   "source": [
    "encoded_data.head()\n",
    "encoded_data['WeatherCondition'].value_counts()"
   ]
  },
  {
   "cell_type": "markdown",
   "metadata": {},
   "source": [
    "## Impute missing values for number of engines"
   ]
  },
  {
   "cell_type": "code",
   "execution_count": 8,
   "metadata": {},
   "outputs": [],
   "source": [
    "encoded_data['NumberOfEngines'] = encoded_data['NumberOfEngines'].replace('missing',0.8425)"
   ]
  },
  {
   "cell_type": "markdown",
   "metadata": {},
   "source": [
    "## Split Data into Feature and Target Columns"
   ]
  },
  {
   "cell_type": "code",
   "execution_count": 9,
   "metadata": {},
   "outputs": [],
   "source": [
    "AccidentNumber = encoded_data['AccidentNumber']\n",
    "encoded_data_no_id = encoded_data.drop(columns = ['AccidentNumber'])\n",
    "X = encoded_data_no_id.drop(columns = ['FatalIndicator'])\n",
    "y = encoded_data_no_id['FatalIndicator']"
   ]
  },
  {
   "cell_type": "markdown",
   "metadata": {},
   "source": [
    "## Get Dummy Variables for Feature Columns"
   ]
  },
  {
   "cell_type": "code",
   "execution_count": 17,
   "metadata": {},
   "outputs": [],
   "source": [
    "X_dummies = pd.get_dummies(X, prefix = X.columns, columns = X.columns, drop_first = True)"
   ]
  },
  {
   "cell_type": "markdown",
   "metadata": {},
   "source": [
    "## Split into Train and Test Data Sets"
   ]
  },
  {
   "cell_type": "code",
   "execution_count": 19,
   "metadata": {},
   "outputs": [],
   "source": [
    "X_train, X_test, y_train, y_test = train_test_split(X_dummies, y, test_size=0.30)"
   ]
  },
  {
   "cell_type": "markdown",
   "metadata": {},
   "source": [
    "## Select 50 Most important Variables using Anova F-Value"
   ]
  },
  {
   "cell_type": "code",
   "execution_count": 24,
   "metadata": {},
   "outputs": [
    {
     "name": "stderr",
     "output_type": "stream",
     "text": [
      "/Users/Rachel/opt/anaconda3/lib/python3.7/site-packages/sklearn/feature_selection/_univariate_selection.py:114: UserWarning: Features [   48    61    66 ... 50263 50264 50273] are constant.\n",
      "  UserWarning)\n",
      "/Users/Rachel/opt/anaconda3/lib/python3.7/site-packages/sklearn/feature_selection/_univariate_selection.py:115: RuntimeWarning: divide by zero encountered in true_divide\n",
      "  f = msb / msw\n",
      "/Users/Rachel/opt/anaconda3/lib/python3.7/site-packages/sklearn/feature_selection/_univariate_selection.py:115: RuntimeWarning: invalid value encountered in true_divide\n",
      "  f = msb / msw\n"
     ]
    }
   ],
   "source": [
    "selector = SelectKBest(score_func=f_classif, k=50)\n",
    "X_train_new = selector.fit_transform(X_train ,y_train)"
   ]
  },
  {
   "cell_type": "code",
   "execution_count": 26,
   "metadata": {},
   "outputs": [],
   "source": [
    "selected_features = pd.DataFrame(selector.inverse_transform(X_train_new), \n",
    "                                 index=X_train.index, \n",
    "                                 columns=X_train.columns)"
   ]
  },
  {
   "cell_type": "code",
   "execution_count": 28,
   "metadata": {},
   "outputs": [],
   "source": [
    "selected_columns = selected_features.columns[selected_features.var() != 0]"
   ]
  },
  {
   "cell_type": "code",
   "execution_count": 29,
   "metadata": {},
   "outputs": [
    {
     "data": {
      "text/plain": [
       "Index(['Country_9', 'Country_23', 'Country_29', 'Country_34', 'Country_55',\n",
       "       'Country_60', 'Country_66', 'Country_106', 'Country_134', 'Country_164',\n",
       "       'AirportCode_7155', 'AirportCode_9478', 'AirportName_22268', 'Make_572',\n",
       "       'Make_680', 'Make_908', 'Make_1148', 'Model_194', 'Model_2088',\n",
       "       'AmateurBuilt_1', 'EngineType_5', 'EngineType_9', 'EngineType_14',\n",
       "       'PurposeOfFlight_5', 'PurposeOfFlight_12', 'PurposeOfFlight_14',\n",
       "       'WeatherCondition_1', 'WeatherCondition_2', 'WeatherCondition_3',\n",
       "       'BroadPhaseOfFlight_1', 'BroadPhaseOfFlight_2', 'BroadPhaseOfFlight_5',\n",
       "       'BroadPhaseOfFlight_6', 'BroadPhaseOfFlight_9', 'BroadPhaseOfFlight_10',\n",
       "       'BroadPhaseOfFlight_11', 'BroadPhaseOfFlight_12', 'Month_11.0',\n",
       "       'Month_12.0', 'NumberOfEngines_0.8425', 'NumberOfEngines_1.0',\n",
       "       'NumberOfEngines_2.0', 'NumberOfEngines_3.0', 'topic_num_cause_1',\n",
       "       'topic_num_cause_2', 'topic_num_cause_3', 'topic_num_cause_4',\n",
       "       'topic_num_narrative_1', 'topic_num_narrative_2',\n",
       "       'topic_num_narrative_3'],\n",
       "      dtype='object')"
      ]
     },
     "execution_count": 29,
     "metadata": {},
     "output_type": "execute_result"
    }
   ],
   "source": [
    "selected_columns"
   ]
  },
  {
   "cell_type": "markdown",
   "metadata": {},
   "source": [
    "## Subset Data to Only Most Import Variables"
   ]
  },
  {
   "cell_type": "code",
   "execution_count": 59,
   "metadata": {},
   "outputs": [],
   "source": [
    "X_dummies_imp = X_dummies.iloc[:, 50164:50318]\n",
    "X_dummies_imp = X_dummies_imp.loc[:,~X_dummies_imp.columns.str.startswith('Year')]\n",
    "X_dummies_imp = X_dummies_imp.loc[:,~X_dummies_imp.columns.str.startswith('Day')]\n",
    "X_dummies_imp = X_dummies_imp.loc[:,~X_dummies_imp.columns.str.startswith('WeekDay')]"
   ]
  },
  {
   "cell_type": "code",
   "execution_count": 60,
   "metadata": {},
   "outputs": [],
   "source": [
    "X_train, X_test, y_train, y_test = train_test_split(X_dummies_imp, y, test_size=0.30)"
   ]
  },
  {
   "cell_type": "markdown",
   "metadata": {},
   "source": [
    "# Train a logistic Regression on the Data"
   ]
  },
  {
   "cell_type": "code",
   "execution_count": 62,
   "metadata": {},
   "outputs": [
    {
     "name": "stderr",
     "output_type": "stream",
     "text": [
      "/Users/Rachel/opt/anaconda3/lib/python3.7/site-packages/sklearn/linear_model/_logistic.py:940: ConvergenceWarning: lbfgs failed to converge (status=1):\n",
      "STOP: TOTAL NO. of ITERATIONS REACHED LIMIT.\n",
      "\n",
      "Increase the number of iterations (max_iter) or scale the data as shown in:\n",
      "    https://scikit-learn.org/stable/modules/preprocessing.html\n",
      "Please also refer to the documentation for alternative solver options:\n",
      "    https://scikit-learn.org/stable/modules/linear_model.html#logistic-regression\n",
      "  extra_warning_msg=_LOGISTIC_SOLVER_CONVERGENCE_MSG)\n"
     ]
    },
    {
     "data": {
      "text/plain": [
       "LogisticRegression(C=1, class_weight=None, dual=False, fit_intercept=True,\n",
       "                   intercept_scaling=1, l1_ratio=None, max_iter=100,\n",
       "                   multi_class='auto', n_jobs=None, penalty='l2',\n",
       "                   random_state=7, solver='lbfgs', tol=0.0001, verbose=0,\n",
       "                   warm_start=False)"
      ]
     },
     "execution_count": 62,
     "metadata": {},
     "output_type": "execute_result"
    }
   ],
   "source": [
    "logistic = LogisticRegression(penalty='l2', C = 1, random_state = 7)\n",
    "logistic.fit(X_train, y_train)"
   ]
  },
  {
   "cell_type": "code",
   "execution_count": 83,
   "metadata": {},
   "outputs": [
    {
     "name": "stdout",
     "output_type": "stream",
     "text": [
      "Logistic Validation Results\n",
      "AUC: 0.7293283043568319\n"
     ]
    }
   ],
   "source": [
    "print('Logistic Validation Results')\n",
    "print('AUC:',roc_auc_score(y_test, logistic.predict(X_test)))"
   ]
  },
  {
   "cell_type": "markdown",
   "metadata": {},
   "source": [
    "## Get Coefficient Values"
   ]
  },
  {
   "cell_type": "code",
   "execution_count": null,
   "metadata": {},
   "outputs": [],
   "source": [
    "#Amateur Built is bad!\n",
    "#Reciprocating engine bad!\n",
    "#Personal and Business flights bad!"
   ]
  },
  {
   "cell_type": "code",
   "execution_count": 57,
   "metadata": {},
   "outputs": [
    {
     "name": "stdout",
     "output_type": "stream",
     "text": [
      "Warning: Maximum number of iterations has been exceeded.\n",
      "         Current function value: 0.326714\n",
      "         Iterations: 35\n",
      "         Function evaluations: 36\n",
      "         Gradient evaluations: 36\n",
      "                                      Results: Logit\n",
      "===========================================================================================\n",
      "Model:                        Logit                    Pseudo R-squared:         0.348     \n",
      "Dependent Variable:           FatalIndicator           AIC:                      35487.4467\n",
      "Date:                         2020-02-04 10:30         BIC:                      36163.7072\n",
      "No. Observations:             54077                    Log-Likelihood:           -17668.   \n",
      "Df Model:                     75                       LL-Null:                  -27100.   \n",
      "Df Residuals:                 54001                    LLR p-value:              0.0000    \n",
      "Converged:                    0.0000                   Scale:                    1.0000    \n",
      "-------------------------------------------------------------------------------------------\n",
      "                        Coef.     Std.Err.      z     P>|z|       [0.025         0.975]    \n",
      "-------------------------------------------------------------------------------------------\n",
      "AmateurBuilt_1          0.5943        0.0438  13.5524 0.0000          0.5083         0.6802\n",
      "AmateurBuilt_2         -0.3125        0.1263  -2.4738 0.0134         -0.5601        -0.0649\n",
      "EngineType_1            0.0071        2.7484   0.0026 0.9980         -5.3797         5.3938\n",
      "EngineType_2           -0.0068        1.7999  -0.0038 0.9970         -3.5345         3.5209\n",
      "EngineType_3            0.0035        2.2464   0.0015 0.9988         -4.3993         4.4063\n",
      "EngineType_4            0.0000  8561461.9180   0.0000 1.0000  -16780157.0143  16780157.0143\n",
      "EngineType_5            0.4343        0.1949   2.2281 0.0259          0.0523         0.8163\n",
      "EngineType_6           -0.0012        5.1938  -0.0002 0.9998        -10.1809        10.1785\n",
      "EngineType_7           -0.0007       10.6204  -0.0001 1.0000        -20.8163        20.8150\n",
      "EngineType_8            0.0071        2.9099   0.0024 0.9980         -5.6961         5.7104\n",
      "EngineType_9           -0.9827        0.2194  -4.4789 0.0000         -1.4127        -0.5527\n",
      "EngineType_10          -0.0560        0.2417  -0.2317 0.8167         -0.5297         0.4177\n",
      "EngineType_11           0.3359        0.2002   1.6779 0.0934         -0.0565         0.7282\n",
      "EngineType_12          -0.0152        0.2032  -0.0750 0.9402         -0.4136         0.3831\n",
      "EngineType_13          -0.3347        0.1660  -2.0158 0.0438         -0.6601        -0.0093\n",
      "EngineType_14           0.4029        0.1731   2.3267 0.0200          0.0635         0.7422\n",
      "PurposeOfFlight_1       0.2215        0.1376   1.6099 0.1074         -0.0482         0.4911\n",
      "PurposeOfFlight_2      -0.0077        0.9838  -0.0078 0.9938         -1.9360         1.9206\n",
      "PurposeOfFlight_3       0.1496        0.2894   0.5169 0.6053         -0.4176         0.7168\n",
      "PurposeOfFlight_4       0.0117        0.5095   0.0230 0.9817         -0.9869         1.0104\n",
      "PurposeOfFlight_5       0.6681        0.0849   7.8650 0.0000          0.5016         0.8346\n",
      "PurposeOfFlight_6       0.1621        0.1765   0.9185 0.3584         -0.1838         0.5080\n",
      "PurposeOfFlight_7      -0.0179        0.3479  -0.0514 0.9590         -0.6998         0.6640\n",
      "PurposeOfFlight_8       0.0644        0.1503   0.4283 0.6684         -0.2302         0.3589\n",
      "PurposeOfFlight_9       0.0277        0.6406   0.0432 0.9655         -1.2278         1.2832\n",
      "PurposeOfFlight_10      0.0719        0.2477   0.2903 0.7716         -0.4136         0.5574\n",
      "PurposeOfFlight_11      0.0317        0.5961   0.0532 0.9576         -1.1366         1.2000\n",
      "PurposeOfFlight_12      0.0536        0.0792   0.6766 0.4987         -0.1016         0.2087\n",
      "PurposeOfFlight_13      0.1301        0.1170   1.1124 0.2660         -0.0991         0.3594\n",
      "PurposeOfFlight_14      0.6196        0.0651   9.5239 0.0000          0.4921         0.7471\n",
      "PurposeOfFlight_15      0.2854        0.1138   2.5071 0.0122          0.0623         0.5085\n",
      "PurposeOfFlight_16      0.0386        0.4153   0.0931 0.9258         -0.7752         0.8525\n",
      "PurposeOfFlight_17     -0.0127        0.5646  -0.0225 0.9820         -1.1193         1.0938\n",
      "PurposeOfFlight_18      0.0051        0.5257   0.0098 0.9922         -1.0252         1.0355\n",
      "PurposeOfFlight_19     -0.0197        0.1364  -0.1446 0.8850         -0.2870         0.2476\n",
      "PurposeOfFlight_20     -0.0003        0.4304  -0.0006 0.9995         -0.8438         0.8433\n",
      "PurposeOfFlight_21      0.1453        0.0776   1.8723 0.0612         -0.0068         0.2975\n",
      "PurposeOfFlight_22     -0.7211        0.0997  -7.2317 0.0000         -0.9165        -0.5256\n",
      "WeatherCondition_1     -0.1209        0.1066  -1.1350 0.2564         -0.3298         0.0879\n",
      "WeatherCondition_2     -1.1790        0.0450 -26.1913 0.0000         -1.2673        -1.0908\n",
      "WeatherCondition_3     -0.5429        0.0964  -5.6294 0.0000         -0.7320        -0.3539\n",
      "BroadPhaseOfFlight_1    0.4167        0.0770   5.4082 0.0000          0.2657         0.5677\n",
      "BroadPhaseOfFlight_2    0.2188        0.0507   4.3190 0.0000          0.1195         0.3180\n",
      "BroadPhaseOfFlight_3    0.1870        0.0808   2.3147 0.0206          0.0287         0.3453\n",
      "BroadPhaseOfFlight_4    0.0581        0.0974   0.5972 0.5504         -0.1327         0.2490\n",
      "BroadPhaseOfFlight_5   -2.7743        0.0888 -31.2392 0.0000         -2.9484        -2.6003\n",
      "BroadPhaseOfFlight_6    0.7050        0.0515  13.6769 0.0000          0.6040         0.8060\n",
      "BroadPhaseOfFlight_7    0.1561        0.2644   0.5904 0.5549         -0.3622         0.6744\n",
      "BroadPhaseOfFlight_8   -0.2613        0.1264  -2.0679 0.0386         -0.5089        -0.0136\n",
      "BroadPhaseOfFlight_9   -0.1327        0.0503  -2.6356 0.0084         -0.2313        -0.0340\n",
      "BroadPhaseOfFlight_10  -1.2414        0.1306  -9.5035 0.0000         -1.4975        -0.9854\n",
      "BroadPhaseOfFlight_11   1.2121        0.1217   9.9621 0.0000          0.9737         1.4506\n",
      "BroadPhaseOfFlight_12   0.8914        0.0651  13.6956 0.0000          0.7638         1.0189\n",
      "Month_2.0              -0.0469        0.0770  -0.6097 0.5421         -0.1979         0.1040\n",
      "Month_3.0              -0.1789        0.0737  -2.4259 0.0153         -0.3234        -0.0344\n",
      "Month_4.0              -0.1164        0.0728  -1.5986 0.1099         -0.2590         0.0263\n",
      "Month_5.0              -0.0350        0.0704  -0.4964 0.6196         -0.1730         0.1031\n",
      "Month_6.0              -0.1083        0.0691  -1.5671 0.1171         -0.2437         0.0271\n",
      "Month_7.0              -0.0922        0.0679  -1.3575 0.1746         -0.2253         0.0409\n",
      "Month_8.0              -0.0614        0.0680  -0.9031 0.3665         -0.1947         0.0719\n",
      "Month_9.0              -0.0077        0.0707  -0.1084 0.9137         -0.1463         0.1310\n",
      "Month_10.0              0.0945        0.0723   1.3082 0.1908         -0.0471         0.2362\n",
      "Month_11.0              0.1457        0.0747   1.9518 0.0510         -0.0006         0.2920\n",
      "Month_12.0              0.1386        0.0762   1.8177 0.0691         -0.0108         0.2880\n",
      "NumberOfEngines_0.8425  0.2562        0.1299   1.9725 0.0486          0.0016         0.5108\n",
      "NumberOfEngines_1.0    -0.1034        0.1577  -0.6558 0.5119         -0.4124         0.2056\n",
      "NumberOfEngines_2.0     0.4765        0.1606   2.9671 0.0030          0.1617         0.7912\n",
      "NumberOfEngines_3.0    -0.2610        0.3076  -0.8486 0.3961         -0.8639         0.3418\n",
      "NumberOfEngines_4.0    -0.1264        0.2817  -0.4488 0.6536         -0.6786         0.4257\n",
      "NumberOfEngines_18.0   -0.0007        4.9342  -0.0001 0.9999         -9.6716         9.6703\n",
      "NumberOfEngines_24.0    0.0000 52918598.7858   0.0000 1.0000 -103718547.7325 103718547.7325\n",
      "topic_num_cause_1      -0.4332        0.0608  -7.1195 0.0000         -0.5524        -0.3139\n",
      "topic_num_cause_2       0.0452        0.0550   0.8213 0.4114         -0.0626         0.1530\n",
      "topic_num_cause_3      -0.3185        0.0774  -4.1156 0.0000         -0.4702        -0.1668\n",
      "topic_num_cause_4      -0.5418        0.0551  -9.8421 0.0000         -0.6497        -0.4339\n",
      "topic_num_narrative_1   0.0874        0.0370   2.3617 0.0182          0.0149         0.1600\n",
      "topic_num_narrative_2  -2.4361        0.0515 -47.2935 0.0000         -2.5370        -2.3351\n",
      "topic_num_narrative_3  -2.7232        0.0620 -43.9328 0.0000         -2.8447        -2.6017\n",
      "===========================================================================================\n",
      "\n"
     ]
    },
    {
     "name": "stderr",
     "output_type": "stream",
     "text": [
      "/Users/Rachel/opt/anaconda3/lib/python3.7/site-packages/statsmodels/base/model.py:512: ConvergenceWarning: Maximum Likelihood optimization failed to converge. Check mle_retvals\n",
      "  \"Check mle_retvals\", ConvergenceWarning)\n"
     ]
    }
   ],
   "source": [
    "y_train = y_train.astype(int)\n",
    "logit_model=sm.Logit(y_train,X_train)\n",
    "result=logit_model.fit(method='bfgs')\n",
    "print(result.summary2())"
   ]
  },
  {
   "cell_type": "markdown",
   "metadata": {},
   "source": [
    "# Train a LightGBM model on the Data"
   ]
  },
  {
   "cell_type": "code",
   "execution_count": 68,
   "metadata": {},
   "outputs": [],
   "source": [
    "dtrain = lgb.Dataset(X_train, label=y_train)\n",
    "dvalid = lgb.Dataset(X_test, label=y_test)"
   ]
  },
  {
   "cell_type": "code",
   "execution_count": 82,
   "metadata": {},
   "outputs": [
    {
     "name": "stdout",
     "output_type": "stream",
     "text": [
      "Training model!\n",
      "Validation AUC score: 0.8931\n"
     ]
    }
   ],
   "source": [
    "param = {'num_leaves': 64, 'objective': 'binary', \n",
    "         'metric': 'auc', 'seed': 7}\n",
    "print(\"Training model!\")\n",
    "\n",
    "bst = lgb.train(param, dtrain, num_boost_round=1000, valid_sets=[dvalid], \n",
    "                early_stopping_rounds=10, verbose_eval=False)\n",
    "\n",
    "valid_pred = bst.predict(X_test)\n",
    "valid_score = roc_auc_score(y_test, valid_pred)\n",
    "print(f\"Validation AUC score: {valid_score:.4f}\")"
   ]
  },
  {
   "cell_type": "markdown",
   "metadata": {},
   "source": [
    "## Get Shap Values for LightGBM"
   ]
  },
  {
   "cell_type": "code",
   "execution_count": 85,
   "metadata": {},
   "outputs": [
    {
     "name": "stderr",
     "output_type": "stream",
     "text": [
      "Setting feature_perturbation = \"tree_path_dependent\" because no background data was given.\n",
      "LightGBM binary classifier with TreeExplainer shap values output has changed to a list of ndarray\n"
     ]
    },
    {
     "data": {
      "image/png": "[encoded data removed]",
      "text/plain": [
       "<Figure size 576x684 with 1 Axes>"
      ]
     },
     "metadata": {
      "needs_background": "light"
     },
     "output_type": "display_data"
    }
   ],
   "source": [
    "shap_values = shap.TreeExplainer(bst).shap_values(X_test)\n",
    "shap.summary_plot(shap_values, X_test)"
   ]
  },
  {
   "cell_type": "code",
   "execution_count": null,
   "metadata": {},
   "outputs": [],
   "source": []
  }
 ],
 "metadata": {
  "kernelspec": {
   "display_name": "Python 3",
   "language": "python",
   "name": "python3"
  },
  "language_info": {
   "codemirror_mode": {
    "name": "ipython",
    "version": 3
   },
   "file_extension": ".py",
   "mimetype": "text/x-python",
   "name": "python",
   "nbconvert_exporter": "python",
   "pygments_lexer": "ipython3",
   "version": "3.7.4"
  }
 },
 "nbformat": 4,
 "nbformat_minor": 2
}
